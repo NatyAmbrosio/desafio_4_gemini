{
  "nbformat": 4,
  "nbformat_minor": 0,
  "metadata": {
    "colab": {
      "provenance": [],
      "authorship_tag": "ABX9TyMVPm4c+ZoGONXcznUWUr+7",
      "include_colab_link": true
    },
    "kernelspec": {
      "name": "python3",
      "display_name": "Python 3"
    },
    "language_info": {
      "name": "python"
    }
  },
  "cells": [
    {
      "cell_type": "markdown",
      "metadata": {
        "id": "view-in-github",
        "colab_type": "text"
      },
      "source": [
        "<a href=\"https://colab.research.google.com/github/NatyAmbrosio/desafio_4_gemini/blob/main/Desafio_4_chabot.ipynb\" target=\"_parent\"><img src=\"https://colab.research.google.com/assets/colab-badge.svg\" alt=\"Open In Colab\"/></a>"
      ]
    },
    {
      "cell_type": "code",
      "source": [
        "!pip install -q -U google-generativeai"
      ],
      "metadata": {
        "id": "5UCh8YkJQtpu"
      },
      "execution_count": 4,
      "outputs": []
    },
    {
      "cell_type": "code",
      "source": [
        "# Import the Python SDK\n",
        "import google.generativeai as genai\n",
        "from google.colab import userdata\n",
        "api_key = userdata.get('Nkey')\n",
        "genai.configure(api_key=api_key)"
      ],
      "metadata": {
        "id": "H3D4if68RH11"
      },
      "execution_count": 25,
      "outputs": []
    },
    {
      "cell_type": "markdown",
      "source": [
        "Listar modelos disponíveis"
      ],
      "metadata": {
        "id": "rXYQafEkRT5L"
      }
    },
    {
      "cell_type": "code",
      "source": [
        "for m in genai.list_models():\n",
        "  if 'generateContent' in m.supported_generation_methods:\n",
        "    print(m.name)"
      ],
      "metadata": {
        "colab": {
          "base_uri": "https://localhost:8080/",
          "height": 139
        },
        "id": "hPPK4j0XRYDW",
        "outputId": "8bf700be-394a-4490-8318-91ef761f0898"
      },
      "execution_count": 6,
      "outputs": [
        {
          "output_type": "stream",
          "name": "stdout",
          "text": [
            "models/gemini-1.0-pro\n",
            "models/gemini-1.0-pro-001\n",
            "models/gemini-1.0-pro-latest\n",
            "models/gemini-1.0-pro-vision-latest\n",
            "models/gemini-1.5-pro-latest\n",
            "models/gemini-pro\n",
            "models/gemini-pro-vision\n"
          ]
        }
      ]
    },
    {
      "cell_type": "markdown",
      "source": [
        "Configurações"
      ],
      "metadata": {
        "id": "RCGevbHMaW9p"
      }
    },
    {
      "cell_type": "code",
      "source": [
        "generation_config ={\n",
        "    'candidate_count':1,\n",
        "    'temperature':0.5,\n",
        "}"
      ],
      "metadata": {
        "id": "amKhgXx_VTie"
      },
      "execution_count": 9,
      "outputs": []
    },
    {
      "cell_type": "code",
      "source": [
        "safety_settings ={\n",
        "    'HARASSMENT': 'BLOCK_NONE',\n",
        "    'HATE': 'BLOCK_NONE',\n",
        "    'SEXUAL': 'BLOCK_NONE',\n",
        "    'DANGEROUS': 'BLOCK_NONE',\n",
        "}"
      ],
      "metadata": {
        "id": "XWn3-cCTWTV8"
      },
      "execution_count": 10,
      "outputs": []
    },
    {
      "cell_type": "markdown",
      "source": [
        "Inicializando modelo"
      ],
      "metadata": {
        "id": "6aqZDzuaaZWM"
      }
    },
    {
      "cell_type": "code",
      "source": [
        "model = genai.GenerativeModel(model_name='gemini-1.0-pro',\n",
        "                              generation_config=generation_config,\n",
        "                              safety_settings=safety_settings)"
      ],
      "metadata": {
        "id": "_UUP9NcracC7"
      },
      "execution_count": 12,
      "outputs": []
    },
    {
      "cell_type": "markdown",
      "source": [
        "**Criar Chatbot**"
      ],
      "metadata": {
        "id": "ugYNPYBVb7dI"
      }
    },
    {
      "cell_type": "code",
      "source": [
        "chat = model.start_chat(history=[])"
      ],
      "metadata": {
        "id": "heA2kJwCb_aC"
      },
      "execution_count": 21,
      "outputs": []
    },
    {
      "cell_type": "code",
      "source": [
        "prompt = input('Esperando prompt:')\n",
        "\n",
        "while prompt != \"fim\":\n",
        "  response = chat.send_message(prompt)\n",
        "  print(\"Resposta:\", response.text, \"\\n\")\n",
        "  prompt = input('Esperando prompt:')"
      ],
      "metadata": {
        "colab": {
          "base_uri": "https://localhost:8080/",
          "height": 1000
        },
        "id": "UK8WN0HmceSO",
        "outputId": "26e40bb9-ed8e-4594-de2e-c348b4e312d1"
      },
      "execution_count": 23,
      "outputs": [
        {
          "output_type": "stream",
          "name": "stdout",
          "text": [
            "Esperando prompt:Como a pessoa que mora em São Paulo capital poderá ajusar com as doações para o Rio Grande do sul?\n",
            "Resposta: Existem várias maneiras pelas quais uma pessoa que mora em São Paulo capital pode ajudar com as doações para o Rio Grande do Sul:\n",
            "\n",
            "* **Doações em dinheiro:** Você pode fazer doações em dinheiro para instituições de caridade que estão arrecadando fundos para as vítimas das enchentes no Rio Grande do Sul. Algumas instituições confiáveis incluem:\n",
            "\n",
            "    * Cruz Vermelha Brasileira: https://www.cruzvermelha.org.br/doe-agora/\n",
            "    * Cáritas Brasileira: https://www.caritas.org.br/doe/\n",
            "    * UNICEF Brasil: https://www.unicef.org/brazil/doe\n",
            "\n",
            "* **Doações de itens:** Você pode doar itens essenciais, como alimentos não perecíveis, água potável, produtos de higiene pessoal, roupas e cobertores, em pontos de coleta espalhados pela cidade de São Paulo. Alguns pontos de coleta incluem:\n",
            "\n",
            "    * Paróquias e igrejas\n",
            "    * Centros de Referência de Assistência Social (CRAS)\n",
            "    * Subprefeituras\n",
            "    * Postos de coleta organizados por empresas e organizações não governamentais\n",
            "\n",
            "* **Voluntariado:** Você pode se voluntariar para ajudar na organização e distribuição de doações, ou para prestar assistência às vítimas das enchentes. Entre em contato com instituições de caridade locais para saber como você pode se envolver.\n",
            "\n",
            "* **Divulgação:** Você pode ajudar a divulgar a campanha de doações nas redes sociais, e-mail e outros canais de comunicação. Quanto mais pessoas souberem sobre as necessidades das vítimas das enchentes, mais doações serão arrecadadas.\n",
            "\n",
            "Além disso, você também pode verificar se a sua empresa ou organização está organizando alguma campanha de arrecadação de doações. Muitas empresas e organizações estão se mobilizando para ajudar as vítimas das enchentes no Rio Grande do Sul.\n",
            "\n",
            "É importante lembrar que toda ajuda, por menor que seja, faz a diferença. A solidariedade e o apoio da população de São Paulo são essenciais para ajudar as vítimas das enchentes no Rio Grande do Sul a se recuperarem deste desastre. \n",
            "\n",
            "Esperando prompt:Como produzir bóias para resgate com impressora 3d?\n",
            "Resposta: **Materiais necessários:**\n",
            "\n",
            "* Impressora 3D\n",
            "* Filamento PLA (ácido polilático)\n",
            "* Fita adesiva\n",
            "* Tesoura\n",
            "* Corda ou barbante\n",
            "\n",
            "**Instruções:**\n",
            "\n",
            "1. **Baixe o arquivo STL:** Baixe um arquivo STL gratuito para uma bóia de resgate de um site como o Thingiverse ou o MyMiniFactory.\n",
            "2. **Prepare a impressora 3D:** Configure sua impressora 3D para imprimir com filamento PLA. Use uma altura de camada de 0,2 mm ou menos para obter uma superfície lisa.\n",
            "3. **Imprima as peças:** Imprima todas as peças da bóia, incluindo a base, o anel e a alça.\n",
            "4. **Monte a bóia:** Cole as peças da bóia usando fita adesiva. Certifique-se de que as peças estejam bem presas.\n",
            "5. **Adicione a corda ou barbante:** Passe a corda ou barbante pelo orifício na alça da bóia. Dê um nó na corda para prendê-la.\n",
            "\n",
            "**Dicas:**\n",
            "\n",
            "* Use um filamento PLA de alta qualidade para garantir a durabilidade da bóia.\n",
            "* Imprima as peças com um preenchimento de 100% para maior resistência.\n",
            "* Se você não tiver uma impressora 3D, pode entrar em contato com um serviço de impressão 3D local para imprimir as peças para você.\n",
            "* Você também pode adicionar um peso à base da bóia para torná-la mais estável na água.\n",
            "\n",
            "**Observações:**\n",
            "\n",
            "* As bóias impressas em 3D são projetadas para uso em situações de emergência e não devem ser usadas como dispositivos de flutuação primários.\n",
            "* Sempre use um colete salva-vidas quando estiver na água.\n",
            "* Teste a bóia em uma piscina ou lago antes de usá-la em uma situação real. \n",
            "\n",
            "Esperando prompt:Como configurar impressora 3d\n",
            "Resposta: **Configurando uma Impressora 3D**\n",
            "\n",
            "**Materiais necessários:**\n",
            "\n",
            "* Impressora 3D\n",
            "* Filamento (PLA, ABS, etc.)\n",
            "* Software de fatiamento (Cura, Simplify3D, etc.)\n",
            "* Chave de fenda (opcional)\n",
            "\n",
            "**Instruções:**\n",
            "\n",
            "**1. Monte a impressora 3D:**\n",
            "\n",
            "* Siga as instruções do fabricante para montar a impressora 3D. Isso geralmente envolve conectar a base à estrutura e instalar o bico e a plataforma de impressão.\n",
            "\n",
            "**2. Instale o software de fatiamento:**\n",
            "\n",
            "* Baixe e instale um software de fatiamento em seu computador. Este software converterá seus modelos 3D em instruções que a impressora 3D pode entender.\n",
            "\n",
            "**3. Conecte a impressora 3D ao computador:**\n",
            "\n",
            "* Conecte a impressora 3D ao seu computador usando um cabo USB ou Wi-Fi (se disponível).\n",
            "\n",
            "**4. Carregue o filamento:**\n",
            "\n",
            "* Insira o filamento no carretel e passe-o pelo tubo de alimentação na parte traseira da impressora.\n",
            "* Aqueça o bico à temperatura recomendada para o filamento que você está usando.\n",
            "* Use os controles da impressora para alimentar o filamento manualmente até que ele saia pelo bico.\n",
            "\n",
            "**5. Nivele a plataforma de impressão:**\n",
            "\n",
            "* Use uma folha de papel ou um cartão para nivelar a plataforma de impressão. Ajuste os parafusos de nivelamento até que a plataforma esteja nivelada em todos os pontos.\n",
            "\n",
            "**6. Configure as configurações de impressão:**\n",
            "\n",
            "* No software de fatiamento, selecione as configurações de impressão para o seu modelo 3D específico. Isso inclui altura da camada, velocidade de impressão, temperatura do bico e temperatura da plataforma.\n",
            "\n",
            "**7. Inicie a impressão:**\n",
            "\n",
            "* Fatie seu modelo 3D usando o software de fatiamento.\n",
            "* Transfira o arquivo fatiado para a impressora 3D.\n",
            "* Inicie a impressão e monitore o progresso.\n",
            "\n",
            "**Dicas:**\n",
            "\n",
            "* Leia atentamente o manual da impressora 3D antes de usá-la.\n",
            "* Use filamentos de alta qualidade para obter melhores resultados de impressão.\n",
            "* Experimente diferentes configurações de impressão para otimizar a qualidade de impressão.\n",
            "* Mantenha a impressora 3D limpa e bem conservada.\n",
            "\n",
            "**Observações:**\n",
            "\n",
            "* Configurar uma impressora 3D pode ser um processo técnico. Se você tiver problemas, consulte o manual da impressora ou entre em contato com o fabricante para obter suporte.\n",
            "* Sempre use equipamentos de segurança, como óculos de proteção e luvas, ao operar uma impressora 3D. \n",
            "\n",
            "Esperando prompt:Quero produzir boias para resgate de animais com impressora 3d\n",
            "Resposta: **Como Produzir Boias para Resgate de Animais com Impressora 3D**\n",
            "\n",
            "**Materiais necessários:**\n",
            "\n",
            "* Impressora 3D\n",
            "* Filamento PLA (ácido polilático)\n",
            "* Fita adesiva\n",
            "* Tesoura\n",
            "* Corda ou barbante\n",
            "\n",
            "**Instruções:**\n",
            "\n",
            "1. **Baixe o arquivo STL:** Baixe um arquivo STL gratuito para uma boia de resgate de animais de um site como o Thingiverse ou o MyMiniFactory.\n",
            "2. **Prepare a impressora 3D:** Configure sua impressora 3D para imprimir com filamento PLA. Use uma altura de camada de 0,2 mm ou menos para obter uma superfície lisa.\n",
            "3. **Imprima as peças:** Imprima todas as peças da boia, incluindo a base, o anel e a alça.\n",
            "4. **Monte a boia:** Cole as peças da boia usando fita adesiva. Certifique-se de que as peças estejam bem presas.\n",
            "5. **Adicione a corda ou barbante:** Passe a corda ou barbante pelo orifício na alça da boia. Dê um nó na corda para prendê-la.\n",
            "\n",
            "**Dicas:**\n",
            "\n",
            "* Use um filamento PLA de alta qualidade para garantir a durabilidade da boia.\n",
            "* Imprima as peças com um preenchimento de 100% para maior resistência.\n",
            "* Se você não tiver uma impressora 3D, pode entrar em contato com um serviço de impressão 3D local para imprimir as peças para você.\n",
            "* Você também pode adicionar um peso à base da boia para torná-la mais estável na água.\n",
            "\n",
            "**Observações:**\n",
            "\n",
            "* As boias impressas em 3D são projetadas para uso em situações de emergência e não devem ser usadas como dispositivos de flutuação primários.\n",
            "* Sempre use um colete salva-vidas ao resgatar animais da água.\n",
            "* Teste a boia em uma piscina ou lago antes de usá-la em uma situação real.\n",
            "\n",
            "**Tamanho e design:**\n",
            "\n",
            "* O tamanho da boia dependerá do tamanho dos animais que você pretende resgatar.\n",
            "* Você pode personalizar o design da boia para atender às suas necessidades específicas. Por exemplo, você pode adicionar alças adicionais ou uma superfície antiderrapante.\n",
            "\n",
            "**Segurança:**\n",
            "\n",
            "* Certifique-se de que a boia esteja bem presa antes de usá-la para resgatar um animal.\n",
            "* Nunca deixe um animal sozinho na água com uma boia. \n",
            "\n",
            "Esperando prompt:FIM\n",
            "Resposta: Obrigado por usar o assistente de IA. Estou sempre aprendendo e melhorando, e agradeço seu feedback.\n",
            "\n",
            "Se você tiver mais alguma dúvida ou precisar de ajuda com outra tarefa, fique à vontade para perguntar. \n",
            "\n"
          ]
        },
        {
          "output_type": "error",
          "ename": "KeyboardInterrupt",
          "evalue": "Interrupted by user",
          "traceback": [
            "\u001b[0;31m---------------------------------------------------------------------------\u001b[0m",
            "\u001b[0;31mKeyboardInterrupt\u001b[0m                         Traceback (most recent call last)",
            "\u001b[0;32m<ipython-input-23-dcb082a8b48c>\u001b[0m in \u001b[0;36m<cell line: 3>\u001b[0;34m()\u001b[0m\n\u001b[1;32m      4\u001b[0m   \u001b[0mresponse\u001b[0m \u001b[0;34m=\u001b[0m \u001b[0mchat\u001b[0m\u001b[0;34m.\u001b[0m\u001b[0msend_message\u001b[0m\u001b[0;34m(\u001b[0m\u001b[0mprompt\u001b[0m\u001b[0;34m)\u001b[0m\u001b[0;34m\u001b[0m\u001b[0;34m\u001b[0m\u001b[0m\n\u001b[1;32m      5\u001b[0m   \u001b[0mprint\u001b[0m\u001b[0;34m(\u001b[0m\u001b[0;34m\"Resposta:\"\u001b[0m\u001b[0;34m,\u001b[0m \u001b[0mresponse\u001b[0m\u001b[0;34m.\u001b[0m\u001b[0mtext\u001b[0m\u001b[0;34m,\u001b[0m \u001b[0;34m\"\\n\"\u001b[0m\u001b[0;34m)\u001b[0m\u001b[0;34m\u001b[0m\u001b[0;34m\u001b[0m\u001b[0m\n\u001b[0;32m----> 6\u001b[0;31m   \u001b[0mprompt\u001b[0m \u001b[0;34m=\u001b[0m \u001b[0minput\u001b[0m\u001b[0;34m(\u001b[0m\u001b[0;34m'Esperando prompt:'\u001b[0m\u001b[0;34m)\u001b[0m\u001b[0;34m\u001b[0m\u001b[0;34m\u001b[0m\u001b[0m\n\u001b[0m",
            "\u001b[0;32m/usr/local/lib/python3.10/dist-packages/ipykernel/kernelbase.py\u001b[0m in \u001b[0;36mraw_input\u001b[0;34m(self, prompt)\u001b[0m\n\u001b[1;32m    849\u001b[0m                 \u001b[0;34m\"raw_input was called, but this frontend does not support input requests.\"\u001b[0m\u001b[0;34m\u001b[0m\u001b[0;34m\u001b[0m\u001b[0m\n\u001b[1;32m    850\u001b[0m             )\n\u001b[0;32m--> 851\u001b[0;31m         return self._input_request(str(prompt),\n\u001b[0m\u001b[1;32m    852\u001b[0m             \u001b[0mself\u001b[0m\u001b[0;34m.\u001b[0m\u001b[0m_parent_ident\u001b[0m\u001b[0;34m,\u001b[0m\u001b[0;34m\u001b[0m\u001b[0;34m\u001b[0m\u001b[0m\n\u001b[1;32m    853\u001b[0m             \u001b[0mself\u001b[0m\u001b[0;34m.\u001b[0m\u001b[0m_parent_header\u001b[0m\u001b[0;34m,\u001b[0m\u001b[0;34m\u001b[0m\u001b[0;34m\u001b[0m\u001b[0m\n",
            "\u001b[0;32m/usr/local/lib/python3.10/dist-packages/ipykernel/kernelbase.py\u001b[0m in \u001b[0;36m_input_request\u001b[0;34m(self, prompt, ident, parent, password)\u001b[0m\n\u001b[1;32m    893\u001b[0m             \u001b[0;32mexcept\u001b[0m \u001b[0mKeyboardInterrupt\u001b[0m\u001b[0;34m:\u001b[0m\u001b[0;34m\u001b[0m\u001b[0;34m\u001b[0m\u001b[0m\n\u001b[1;32m    894\u001b[0m                 \u001b[0;31m# re-raise KeyboardInterrupt, to truncate traceback\u001b[0m\u001b[0;34m\u001b[0m\u001b[0;34m\u001b[0m\u001b[0m\n\u001b[0;32m--> 895\u001b[0;31m                 \u001b[0;32mraise\u001b[0m \u001b[0mKeyboardInterrupt\u001b[0m\u001b[0;34m(\u001b[0m\u001b[0;34m\"Interrupted by user\"\u001b[0m\u001b[0;34m)\u001b[0m \u001b[0;32mfrom\u001b[0m \u001b[0;32mNone\u001b[0m\u001b[0;34m\u001b[0m\u001b[0;34m\u001b[0m\u001b[0m\n\u001b[0m\u001b[1;32m    896\u001b[0m             \u001b[0;32mexcept\u001b[0m \u001b[0mException\u001b[0m \u001b[0;32mas\u001b[0m \u001b[0me\u001b[0m\u001b[0;34m:\u001b[0m\u001b[0;34m\u001b[0m\u001b[0;34m\u001b[0m\u001b[0m\n\u001b[1;32m    897\u001b[0m                 \u001b[0mself\u001b[0m\u001b[0;34m.\u001b[0m\u001b[0mlog\u001b[0m\u001b[0;34m.\u001b[0m\u001b[0mwarning\u001b[0m\u001b[0;34m(\u001b[0m\u001b[0;34m\"Invalid Message:\"\u001b[0m\u001b[0;34m,\u001b[0m \u001b[0mexc_info\u001b[0m\u001b[0;34m=\u001b[0m\u001b[0;32mTrue\u001b[0m\u001b[0;34m)\u001b[0m\u001b[0;34m\u001b[0m\u001b[0;34m\u001b[0m\u001b[0m\n",
            "\u001b[0;31mKeyboardInterrupt\u001b[0m: Interrupted by user"
          ]
        }
      ]
    },
    {
      "cell_type": "markdown",
      "source": [
        "Estilização"
      ],
      "metadata": {
        "id": "C5oMrpkYfaCZ"
      }
    },
    {
      "cell_type": "code",
      "source": [
        "import textwrap\n",
        "from IPython.display import display\n",
        "from IPython.display import Markdown\n",
        "\n",
        "def to_markdown(text):\n",
        "  text = text.replace('•', '  *')\n",
        "  return Markdown(textwrap.indent(text, '>', predicate=lambda _:True))\n",
        "\n",
        "  for message in chat.history:\n",
        "    display(to_markdown(f'**{message.role}**:{message.parts[0].text}'))\n",
        "    print('------------------------------------------------------------')"
      ],
      "metadata": {
        "id": "QueiDsNDfMEM"
      },
      "execution_count": null,
      "outputs": []
    }
  ]
}